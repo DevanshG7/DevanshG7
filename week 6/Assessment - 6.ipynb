{
 "cells": [
  {
   "cell_type": "code",
   "execution_count": 1,
   "id": "0672027c",
   "metadata": {},
   "outputs": [],
   "source": [
    "from sklearn import datasets\n",
    "import numpy as np\n",
    "import time\n",
    "import pandas as pd\n",
    "from sklearn.metrics import accuracy_score\n",
    "from sklearn.model_selection import train_test_split\n",
    "from sklearn import svm"
   ]
  },
  {
   "cell_type": "code",
   "execution_count": 2,
   "id": "60eaee38",
   "metadata": {},
   "outputs": [],
   "source": [
    "# Loading credit card dataset\n",
    "data = pd.read_csv(\"10kcc.csv\")\n",
    "# Loading the features and storing them in X\n",
    "X = data.iloc[:, 0:30]\n",
    "# Loading the labels and storing them in y\n",
    "y = data[\"Class\"]"
   ]
  },
  {
   "cell_type": "code",
   "execution_count": 3,
   "id": "d186c8cd",
   "metadata": {},
   "outputs": [],
   "source": [
    "## Train = 60 % , Test = 20 % , Train = 20 %\n",
    "X_train, X_test, X_validation = np.split(X, [int(.6 * len(X)), int(.8 * len(X))])\n",
    "Y_train, Y_test, Y_validation = np.split(y, [int(.6 * len(y)), int(.8 * len(y))])"
   ]
  },
  {
   "cell_type": "code",
   "execution_count": 4,
   "id": "40d602c5",
   "metadata": {},
   "outputs": [
    {
     "name": "stdout",
     "output_type": "stream",
     "text": [
      "Training time is  0.136 seconds\n"
     ]
    },
    {
     "name": "stderr",
     "output_type": "stream",
     "text": [
      "C:\\Users\\Devansh Gupta\\anaconda3\\lib\\site-packages\\sklearn\\svm\\_base.py:1206: ConvergenceWarning: Liblinear failed to converge, increase the number of iterations.\n",
      "  warnings.warn(\n"
     ]
    }
   ],
   "source": [
    "from sklearn.svm import LinearSVC\n",
    "## Creating the svm object\n",
    "clf = LinearSVC(random_state=0)\n",
    "# Intilizing the time object\n",
    "t0 = time.time()\n",
    "t1 = time.time()\n",
    "## Fitting the data into the trained model\n",
    "clf.fit(X_train, Y_train)\n",
    "print(\"Training time is \", round(time.time() - t0, 3),  \"seconds\")"
   ]
  },
  {
   "cell_type": "code",
   "execution_count": 5,
   "id": "8d2e0ae5",
   "metadata": {},
   "outputs": [
    {
     "name": "stdout",
     "output_type": "stream",
     "text": [
      "Testing time is  25.859 seconds\n"
     ]
    }
   ],
   "source": [
    "# Testing the data on the trained model\n",
    "y_pred = clf.predict(X_test)\n",
    "print(\"Testing time is \", round(time.time() - t1, 3),  \"seconds\")"
   ]
  },
  {
   "cell_type": "code",
   "execution_count": 6,
   "id": "3cad4075",
   "metadata": {},
   "outputs": [
    {
     "data": {
      "text/plain": [
       "0.011"
      ]
     },
     "execution_count": 6,
     "metadata": {},
     "output_type": "execute_result"
    }
   ],
   "source": [
    "accuracy_score(Y_test,y_pred)"
   ]
  },
  {
   "cell_type": "code",
   "execution_count": 7,
   "id": "415c15dc",
   "metadata": {},
   "outputs": [
    {
     "name": "stdout",
     "output_type": "stream",
     "text": [
      "Training time is  3.843 seconds\n"
     ]
    }
   ],
   "source": [
    "# Creating the svm object\n",
    "clf = svm.SVC(kernel='rbf', gamma=0.7)\n",
    "# Creating the time object\n",
    "t0 = time.time()\n",
    "t1 = time.time()\n",
    "# Fitting the data into the model\n",
    "clf.fit(X_train, Y_train)\n",
    "#Calculating the training time\n",
    "print(\"Training time is \", round(time.time() - t0, 3),  \"seconds\")"
   ]
  },
  {
   "cell_type": "code",
   "execution_count": 8,
   "id": "da2ad3ed",
   "metadata": {},
   "outputs": [
    {
     "name": "stdout",
     "output_type": "stream",
     "text": [
      "Testing time is  13.353 seconds\n"
     ]
    }
   ],
   "source": [
    "#testing the data on the trained model\n",
    "y_pred = clf.predict(X_test)\n",
    "# Calculating the testing time\n",
    "print(\"Testing time is \", round(time.time() - t1, 3),  \"seconds\")"
   ]
  },
  {
   "cell_type": "code",
   "execution_count": 9,
   "id": "0237e046",
   "metadata": {},
   "outputs": [
    {
     "data": {
      "text/plain": [
       "0.989"
      ]
     },
     "execution_count": 9,
     "metadata": {},
     "output_type": "execute_result"
    }
   ],
   "source": [
    "accuracy_score(Y_test,y_pred)"
   ]
  },
  {
   "cell_type": "code",
   "execution_count": 10,
   "id": "d198a76c",
   "metadata": {},
   "outputs": [
    {
     "name": "stdout",
     "output_type": "stream",
     "text": [
      "training time is  0 seconds\n"
     ]
    }
   ],
   "source": [
    "# Creating the svm object\n",
    "clf = svm.SVC(kernel='poly', degree=3)\n",
    "# Creating the time object\n",
    "t0 = time.time()\n",
    "t1 = time.time()\n",
    "# Fitting the data into the model\n",
    "clf.fit(X_train, Y_train)\n",
    "# Calculating the training time\n",
    "print(\"training time is \", round(time.time() - t0), \"seconds\")"
   ]
  },
  {
   "cell_type": "code",
   "execution_count": 11,
   "id": "da4ca039",
   "metadata": {},
   "outputs": [
    {
     "name": "stdout",
     "output_type": "stream",
     "text": [
      "testingtime is  13 seconds\n"
     ]
    }
   ],
   "source": [
    "# Testing the data on the trained model\n",
    "y_pred = clf.predict(X_test)\n",
    "# Calculating the testing time\n",
    "print(\"testingtime is \", round(time.time() - t1), \"seconds\")"
   ]
  },
  {
   "cell_type": "code",
   "execution_count": 12,
   "id": "bb7f04fd",
   "metadata": {},
   "outputs": [
    {
     "data": {
      "text/plain": [
       "0.989"
      ]
     },
     "execution_count": 12,
     "metadata": {},
     "output_type": "execute_result"
    }
   ],
   "source": [
    "accuracy_score(Y_test,y_pred)"
   ]
  },
  {
   "cell_type": "code",
   "execution_count": null,
   "id": "56f35f7a",
   "metadata": {},
   "outputs": [],
   "source": []
  }
 ],
 "metadata": {
  "kernelspec": {
   "display_name": "Python 3 (ipykernel)",
   "language": "python",
   "name": "python3"
  },
  "language_info": {
   "codemirror_mode": {
    "name": "ipython",
    "version": 3
   },
   "file_extension": ".py",
   "mimetype": "text/x-python",
   "name": "python",
   "nbconvert_exporter": "python",
   "pygments_lexer": "ipython3",
   "version": "3.9.12"
  }
 },
 "nbformat": 4,
 "nbformat_minor": 5
}
