{
 "cells": [
  {
   "cell_type": "markdown",
   "metadata": {},
   "source": [
    "1. Loads a widget class from the tkinter module\n",
    "2. Makes an instance of the imported Label class\n",
    "3. Packs (arranges) the new Label in its parent widget\n",
    "4. Calls mainloop to bring up the window and start the tkinter event loop \n",
    "\n",
    "5. def mainloop():\n",
    "    while the main window has not been closed:\n",
    "        if an event has occurred:\n",
    "            run the associated event handler function\n",
    "6. This is called event-driven programming"
   ]
  },
  {
   "cell_type": "code",
   "execution_count": 14,
   "metadata": {},
   "outputs": [],
   "source": [
    "import tkinter as rk \n",
    "root = rk.Tk() \n",
    "w = rk.Label(root, text=\"Hello Tkinter!\") \n",
    "w.place(relx=.4,rely=.2) \n",
    "root.mainloop()"
   ]
  },
  {
   "cell_type": "code",
   "execution_count": 15,
   "metadata": {},
   "outputs": [],
   "source": [
    "from tkinter import Label\n",
    "widget = Label(None, text='Hello GUI world!') \n",
    "widget.pack()\n",
    "widget.mainloop()"
   ]
  },
  {
   "cell_type": "code",
   "execution_count": 39,
   "metadata": {},
   "outputs": [],
   "source": [
    "import tkinter as tk \n",
    "r = tk.Tk() \n",
    "r.title('Counting Seconds') \n",
    "button = tk.Button(r, text='Stop', width=50, command = r.destroy) \n",
    "button.pack() \n",
    "r.mainloop() \n"
   ]
  },
  {
   "cell_type": "code",
   "execution_count": 17,
   "metadata": {},
   "outputs": [],
   "source": [
    "import tkinter\n",
    "widget = tkinter.Label(None, text='Hello GUI world!') \n",
    "widget.pack()\n",
    "widget.mainloop()"
   ]
  },
  {
   "cell_type": "code",
   "execution_count": 21,
   "metadata": {},
   "outputs": [],
   "source": [
    "from tkinter import *\n",
    "root = Tk()\n",
    "Label(root, text='Hello GUI world!').pack(side=BOTTOM) \n",
    "root.mainloop()"
   ]
  },
  {
   "cell_type": "markdown",
   "metadata": {},
   "source": [
    "    Alternative above & Minimal version below"
   ]
  },
  {
   "cell_type": "code",
   "execution_count": 1,
   "metadata": {},
   "outputs": [],
   "source": [
    "from tkinter import * \n",
    "Label(text='Hello GUI world!').pack() \n",
    "mainloop()"
   ]
  },
  {
   "cell_type": "code",
   "execution_count": 2,
   "metadata": {},
   "outputs": [],
   "source": [
    "import tkinter as tk\n",
    "\n",
    "root = tk.Tk()\n",
    "logo = tk.PhotoImage(file=\"image1.png\")\n",
    "\n",
    "w1 = tk.Label(root, image=logo).pack(side=\"right\")\n",
    "\n",
    "explanation = \"\"\"At present, only GIF and PPM/PGM\n",
    "formats are supported, but an interface \n",
    "exists to allow additional image file\n",
    "formats to be added easily.\"\"\"\n",
    "\n",
    "w2 = tk.Label(root, \n",
    "              justify=tk.LEFT,\n",
    "              padx = 10, \n",
    "              text=explanation).pack(side=\"left\")\n",
    "root.mainloop()\n"
   ]
  },
  {
   "cell_type": "code",
   "execution_count": 41,
   "metadata": {},
   "outputs": [
    {
     "data": {
      "text/plain": [
       "'C:\\\\Users\\\\Devansh Gupta\\\\Downloads'"
      ]
     },
     "execution_count": 41,
     "metadata": {},
     "output_type": "execute_result"
    }
   ],
   "source": [
    "pwd"
   ]
  },
  {
   "cell_type": "code",
   "execution_count": 38,
   "metadata": {},
   "outputs": [],
   "source": [
    "import tkinter as tk\n",
    "\n",
    "root = tk.Tk()\n",
    "tk.Label(root, \n",
    "        text=\"Red Text in Times Font\",\n",
    "        fg = \"red\",\n",
    "        font = \"Times\").pack()\n",
    "tk.Label(root, \n",
    "        text=\"Green Text in Helvetica Font\",\n",
    "        fg = \"light green\",\n",
    "        bg = \"dark green\",\n",
    "        font = \"Helvetica 16 bold italic\").pack()\n",
    "tk.Label(root, \n",
    "        text=\"Blue Text in Verdana bold\",\n",
    "        fg = \"blue\",\n",
    "        bg = \"yellow\",\n",
    "        font = \"Verdana 10 bold\").pack()\n",
    "\n",
    "root.mainloop()\n"
   ]
  },
  {
   "cell_type": "code",
   "execution_count": 29,
   "metadata": {},
   "outputs": [],
   "source": [
    "import tkinter as tk\n",
    "master = tk.Tk()\n",
    "whatever_you_do = \"Whatever you do will be insignificant, but it is very important that you do it.\\n(Mahatma Gandhi)\"\n",
    "msg = tk.Message(master, text = whatever_you_do)\n",
    "msg.config(bg='red', font=('times', 24, 'italic'))\n",
    "msg.pack()\n",
    "tk.mainloop()"
   ]
  },
  {
   "cell_type": "code",
   "execution_count": 8,
   "metadata": {},
   "outputs": [],
   "source": [
    "import tkinter as tk\n",
    "\n",
    "counter = 0 \n",
    "def counter_label(label):\n",
    "  counter = 0\n",
    "  def count():\n",
    "    global counter\n",
    "    counter += 1\n",
    "    label.config(text=str(counter))\n",
    "    label.after(1000, count)\n",
    "  count()\n",
    " \n",
    " \n",
    "root = tk.Tk()\n",
    "root.title(\"Counting Seconds\")\n",
    "label = tk.Label(root, fg=\"dark green\")\n",
    "label.pack()\n",
    "counter_label(label)\n",
    "button = tk.Button(root, text='Stop', width=25, command=root.destroy)\n",
    "button.pack()\n",
    "root.mainloop()"
   ]
  },
  {
   "cell_type": "code",
   "execution_count": 3,
   "metadata": {},
   "outputs": [],
   "source": [
    "import tkinter as tk\n",
    "    \n",
    "\n",
    "def write_slogan():\n",
    "    print(\"Tkinter is easy to use!\")\n",
    "\n",
    "root = tk.Tk()\n",
    "frame = tk.Frame(root)\n",
    "frame.pack()\n",
    "\n",
    "button = tk.Button(frame, \n",
    "                   text=\"QUIT\", \n",
    "                   fg=\"red\",\n",
    "                   command=root.destroy)\n",
    "button.pack(side=tk.LEFT)\n",
    "slogan = tk.Button(frame,\n",
    "                   text=\"Hello\",\n",
    "                   command=write_slogan)\n",
    "slogan.pack(side=tk.LEFT)\n",
    "\n",
    "root.mainloop()"
   ]
  },
  {
   "cell_type": "code",
   "execution_count": null,
   "metadata": {},
   "outputs": [],
   "source": [
    "import tkinter as tk\n",
    "from tkinter import ttk\n",
    "\n",
    "root = tk.Tk()\n",
    "\n",
    "\n",
    "def button_clicked():\n",
    "    print('Button clicked')\n",
    "\n",
    "\n",
    "button = ttk.Button(root, text='Click Me', command=button_clicked)\n",
    "button.pack()\n",
    "\n",
    "root.mainloop()"
   ]
  },
  {
   "cell_type": "code",
   "execution_count": null,
   "metadata": {},
   "outputs": [],
   "source": [
    "import tkinter as tk\n",
    "from tkinter import ttk\n",
    "\n",
    "root = tk.Tk()\n",
    "\n",
    "\n",
    "def select(option):\n",
    "    print(option)\n",
    "\n",
    "\n",
    "ttk.Button(root, text='Rock', command=lambda: select('Rock')).pack()\n",
    "ttk.Button(root, text='Paper',command=lambda: select('Paper')).pack()\n",
    "ttk.Button(root, text='Scissors', command=lambda: select('Scissors')).pack()\n",
    "\n",
    "root.mainloop()"
   ]
  },
  {
   "cell_type": "code",
   "execution_count": 12,
   "metadata": {},
   "outputs": [],
   "source": [
    "import tkinter as tk\n",
    "\n",
    "root = tk.Tk()\n",
    "\n",
    "v = tk.IntVar()\n",
    "\n",
    "tk.Label(root, \n",
    "        text=\"\"\"Choose a \n",
    "programming language:\"\"\",\n",
    "        justify = tk.LEFT,\n",
    "        padx = 20).pack()\n",
    "\n",
    "tk.Radiobutton(root, \n",
    "               text=\"Python\",\n",
    "               padx = 20, \n",
    "               variable=v, \n",
    "               value=1).pack(anchor=tk.W)\n",
    "\n",
    "tk.Radiobutton(root, \n",
    "               text=\"Perl\",\n",
    "               padx = 20, \n",
    "               variable=v, \n",
    "               value=2).pack(anchor=tk.W)\n",
    "root.mainloop()"
   ]
  },
  {
   "cell_type": "code",
   "execution_count": 11,
   "metadata": {},
   "outputs": [
    {
     "name": "stdout",
     "output_type": "stream",
     "text": [
      "101\n"
     ]
    }
   ],
   "source": [
    "import tkinter as tk\n",
    "\n",
    "root = tk.Tk()\n",
    "\n",
    "v = tk.IntVar()\n",
    "v.set(1)  # initializing the choice, i.e. Python\n",
    "\n",
    "languages = [(\"Python\", 101),\n",
    "   \t     (\"Perl\", 102),\n",
    "    \t     (\"Java\", 103),\n",
    "             (\"C++\", 104),\n",
    "             (\"C\", 105)]\n",
    "\n",
    "def ShowChoice():\n",
    "    print(v.get())\n",
    "\n",
    "tk.Label(root, \n",
    "         text=\"\"\"Choose your favourite \n",
    "programming language:\"\"\",\n",
    "         justify = tk.LEFT,\n",
    "         padx = 20).pack()\n",
    "\n",
    "for language, val in languages:\n",
    "    tk.Radiobutton(root, \n",
    "                   text=language,\n",
    "                   padx = 20, \n",
    "                   variable=v, \n",
    "                   command=ShowChoice,\n",
    "                   value=val).pack(anchor=tk.W)\n",
    "\n",
    "\n",
    "root.mainloop()"
   ]
  },
  {
   "cell_type": "code",
   "execution_count": 4,
   "metadata": {},
   "outputs": [
    {
     "name": "stdout",
     "output_type": "stream",
     "text": [
      "103\n",
      "102\n",
      "101\n",
      "104\n",
      "105\n"
     ]
    }
   ],
   "source": [
    "import tkinter as tk\n",
    "\n",
    "root = tk.Tk()\n",
    "\n",
    "v = tk.IntVar()\n",
    "v.set(1)  # initializing the choice, i.e. Python\n",
    "\n",
    "languages = [(\"Python\", 101),\n",
    "   \t     (\"Perl\", 102),\n",
    "    \t     (\"Java\", 103),\n",
    "             (\"C++\", 104),\n",
    "             (\"C\", 105)]\n",
    "\n",
    "def ShowChoice():\n",
    "    print(v.get())\n",
    "\n",
    "tk.Label(root, \n",
    "         text=\"\"\"Choose your favourite \n",
    "programming language:\"\"\",\n",
    "         justify = tk.LEFT,\n",
    "         padx = 20).pack()\n",
    "\n",
    "for language, val in languages:\n",
    "   tk.Radiobutton(root, \n",
    "                  text=language,\n",
    "                  indicatoron = 0,\n",
    "                  width = 20,\n",
    "                  padx = 20, \n",
    "                  variable=v, \n",
    "                  command=ShowChoice,\n",
    "                  value=val).pack(anchor=tk.W)\n",
    "\n",
    "\n",
    "root.mainloop()"
   ]
  },
  {
   "cell_type": "code",
   "execution_count": null,
   "metadata": {},
   "outputs": [],
   "source": [
    "9154907994"
   ]
  },
  {
   "cell_type": "code",
   "execution_count": null,
   "metadata": {},
   "outputs": [],
   "source": [
    "from tkinter import *\n",
    "master = Tk()\n",
    "var1 = IntVar()\n",
    "Checkbutton(master, text=\"male\", variable=var1).grid(row=0, sticky=W)\n",
    "var2 = IntVar()\n",
    "Checkbutton(master, text=\"female\", variable=var2).grid(row=1, sticky=W)\n",
    "mainloop()"
   ]
  },
  {
   "cell_type": "code",
   "execution_count": null,
   "metadata": {},
   "outputs": [],
   "source": [
    "from tkinter import *\n",
    "master = Tk()\n",
    "\n",
    "def var_states():\n",
    "   print(\"male: %d,\\nfemale: %d\" % (var1.get(), var2.get()))\n",
    "\n",
    "Label(master, text=\"Your sex:\").grid(row=0, sticky=W)\n",
    "var1 = IntVar()\n",
    "Checkbutton(master, text=\"male\", variable=var1).grid(row=1, sticky=W)\n",
    "var2 = IntVar()\n",
    "Checkbutton(master, text=\"female\", variable=var2).grid(row=2, sticky=W)\n",
    "Button(master, text='Quit', command=master.quit).grid(row=3, sticky=W, pady=4)\n",
    "Button(master, text='Show', command=var_states).grid(row=4, sticky=W, pady=4)\n",
    "mainloop()"
   ]
  },
  {
   "cell_type": "code",
   "execution_count": null,
   "metadata": {},
   "outputs": [],
   "source": [
    "from tkinter import *\n",
    "class Checkbar(Frame):\n",
    "   def __init__(self, parent=None, picks=[], side=LEFT, anchor=W):\n",
    "      Frame.__init__(self, parent)\n",
    "      self.vars = []\n",
    "      for pick in picks:\n",
    "         var = IntVar()\n",
    "         chk = Checkbutton(self, text=pick, variable=var)\n",
    "         chk.pack(side=side, anchor=anchor, expand=YES)\n",
    "         self.vars.append(var)\n",
    "   def state(self):\n",
    "      return map((lambda var: var.get()), self.vars)\n",
    "if __name__ == '__main__':\n",
    "   root = Tk()\n",
    "   lng = Checkbar(root, ['Python', 'Ruby', 'Perl', 'C++'])\n",
    "   tgl = Checkbar(root, ['English','German'])\n",
    "   lng.pack(side=TOP,  fill=X)\n",
    "   tgl.pack(side=LEFT)\n",
    "   lng.config(relief=GROOVE, bd=2)\n",
    "\n",
    "   def allstates(): \n",
    "      print(list(lng.state()), list(tgl.state()))\n",
    "   Button(root, text='Quit', command=root.quit).pack(side=RIGHT)\n",
    "   Button(root, text='Peek', command=allstates).pack(side=RIGHT)\n",
    "   root.mainloop()\n"
   ]
  },
  {
   "cell_type": "code",
   "execution_count": null,
   "metadata": {},
   "outputs": [],
   "source": [
    "import tkinter as tk\n",
    "\n",
    "master = tk.Tk()\n",
    "tk.Label(master, text=\"First Name\").grid(row=0)\n",
    "tk.Label(master, text=\"Last Name\").grid(row=1)\n",
    "\n",
    "e1 = tk.Entry(master)\n",
    "e2 = tk.Entry(master)\n",
    "\n",
    "e1.grid(row=0, column=1)\n",
    "e2.grid(row=1, column=1)\n",
    "\n",
    "master.mainloop()\n"
   ]
  },
  {
   "cell_type": "code",
   "execution_count": null,
   "metadata": {},
   "outputs": [],
   "source": [
    "import tkinter as tk\n",
    "\n",
    "def show_entry_fields():\n",
    "    print(\"First Name: %s\\nLast Name: %s\" % (e1.get(), e2.get()))\n",
    "\n",
    "master = tk.Tk()\n",
    "tk.Label(master, \n",
    "         text=\"First Name\").grid(row=0)\n",
    "tk.Label(master, \n",
    "         text=\"Last Name\").grid(row=1)\n",
    "\n",
    "e1 = tk.Entry(master)\n",
    "e2 = tk.Entry(master)\n",
    "\n",
    "e1.grid(row=0, column=1)\n",
    "e2.grid(row=1, column=1)\n",
    "\n",
    "tk.Button(master, \n",
    "          text='Quit', \n",
    "          command=master.quit).grid(row=3, \n",
    "                                    column=0, \n",
    "                                    sticky=tk.W, \n",
    "                                    pady=4)\n",
    "tk.Button(master, \n",
    "          text='Show', command=show_entry_fields).grid(row=3, \n",
    "                                                       column=1, \n",
    "                                                       sticky=tk.W, \n",
    "                                                       pady=4)\n",
    "\n",
    "tk.mainloop()"
   ]
  },
  {
   "cell_type": "code",
   "execution_count": null,
   "metadata": {},
   "outputs": [],
   "source": [
    "import tkinter as tk\n",
    "\n",
    "def show_entry_fields():\n",
    "    print(\"First Name: %s\\nLast Name: %s\" % (e1.get(), e2.get()))\n",
    "    e1.delete(0, tk.END)\n",
    "    e2.delete(0, tk.END)\n",
    "\n",
    "master = tk.Tk()\n",
    "tk.Label(master, text=\"First Name\").grid(row=0)\n",
    "tk.Label(master, text=\"Last Name\").grid(row=1)\n",
    "\n",
    "e1 = tk.Entry(master)\n",
    "e2 = tk.Entry(master)\n",
    "e1.insert(10, \"Miller\")\n",
    "e2.insert(10, \"Jill\")\n",
    "\n",
    "e1.grid(row=0, column=1)\n",
    "e2.grid(row=1, column=1)\n",
    "\n",
    "tk.Button(master, \n",
    "          text='Quit', \n",
    "          command=master.quit).grid(row=3, \n",
    "                                    column=0, \n",
    "                                    sticky=tk.W, \n",
    "                                    pady=4)\n",
    "tk.Button(master, text='Show', command=show_entry_fields).grid(row=3, \n",
    "                                                               column=1, \n",
    "                                                               sticky=tk.W, \n",
    "                                                               pady=4)\n",
    "\n",
    "master.mainloop()\n",
    "\n",
    "tk.mainloop()"
   ]
  },
  {
   "cell_type": "code",
   "execution_count": 1,
   "metadata": {},
   "outputs": [
    {
     "name": "stdout",
     "output_type": "stream",
     "text": [
      "Last Name: \"hi\"\n",
      "First Name: \"hello\"\n",
      "Job: \"hh\"\n",
      "Country: \"hh\"\n"
     ]
    }
   ],
   "source": [
    "import tkinter as tk\n",
    "\n",
    "fields = 'Last Name', 'First Name', 'Job', 'Country'\n",
    "\n",
    "def fetch(entries):\n",
    "    for entry in entries:\n",
    "        field = entry[0]\n",
    "        text  = entry[1].get()\n",
    "        print('%s: \"%s\"' % (field, text)) \n",
    "\n",
    "def makeform(root, fields):\n",
    "    entries = []\n",
    "    for field in fields:\n",
    "        row = tk.Frame(root)\n",
    "        lab = tk.Label(row, width=15, text=field, anchor='w')\n",
    "        ent = tk.Entry(row)\n",
    "        row.pack(side=tk.TOP, fill=tk.X, padx=5, pady=5)\n",
    "        lab.pack(side=tk.LEFT)\n",
    "        ent.pack(side=tk.RIGHT, expand=tk.YES, fill=tk.X)\n",
    "        entries.append((field, ent))\n",
    "    return entries\n",
    "\n",
    "if __name__ == '__main__':\n",
    "    root = tk.Tk()\n",
    "    ents = makeform(root, fields)\n",
    "    root.bind('<Return>', (lambda event, e=ents: fetch(e)))   \n",
    "    b1 = tk.Button(root, text='Show',\n",
    "                  command=(lambda e=ents: fetch(e)))\n",
    "    b1.pack(side=tk.LEFT, padx=5, pady=5)\n",
    "    b2 = tk.Button(root, text='Quit', command=root.quit)\n",
    "    b2.pack(side=tk.LEFT, padx=5, pady=5)\n",
    "    root.mainloop()"
   ]
  },
  {
   "cell_type": "code",
   "execution_count": null,
   "metadata": {},
   "outputs": [],
   "source": []
  }
 ],
 "metadata": {
  "kernelspec": {
   "display_name": "Python 3",
   "language": "python",
   "name": "python3"
  },
  "language_info": {
   "codemirror_mode": {
    "name": "ipython",
    "version": 3
   },
   "file_extension": ".py",
   "mimetype": "text/x-python",
   "name": "python",
   "nbconvert_exporter": "python",
   "pygments_lexer": "ipython3",
   "version": "3.8.8"
  }
 },
 "nbformat": 4,
 "nbformat_minor": 4
}
