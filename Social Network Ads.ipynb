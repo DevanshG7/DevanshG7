{
 "cells": [
  {
   "cell_type": "markdown",
   "id": "a8657ecd",
   "metadata": {},
   "source": [
    "# Social_Network_Ads"
   ]
  },
  {
   "cell_type": "code",
   "execution_count": 9,
   "id": "f86c369e",
   "metadata": {},
   "outputs": [
    {
     "data": {
      "text/html": [
       "<div>\n",
       "<style scoped>\n",
       "    .dataframe tbody tr th:only-of-type {\n",
       "        vertical-align: middle;\n",
       "    }\n",
       "\n",
       "    .dataframe tbody tr th {\n",
       "        vertical-align: top;\n",
       "    }\n",
       "\n",
       "    .dataframe thead th {\n",
       "        text-align: right;\n",
       "    }\n",
       "</style>\n",
       "<table border=\"1\" class=\"dataframe\">\n",
       "  <thead>\n",
       "    <tr style=\"text-align: right;\">\n",
       "      <th></th>\n",
       "      <th>User ID</th>\n",
       "      <th>Gender</th>\n",
       "      <th>Age</th>\n",
       "      <th>EstimatedSalary</th>\n",
       "      <th>Purchased</th>\n",
       "    </tr>\n",
       "  </thead>\n",
       "  <tbody>\n",
       "    <tr>\n",
       "      <th>0</th>\n",
       "      <td>15624510</td>\n",
       "      <td>Male</td>\n",
       "      <td>19</td>\n",
       "      <td>19000</td>\n",
       "      <td>0</td>\n",
       "    </tr>\n",
       "    <tr>\n",
       "      <th>1</th>\n",
       "      <td>15810944</td>\n",
       "      <td>Male</td>\n",
       "      <td>35</td>\n",
       "      <td>20000</td>\n",
       "      <td>0</td>\n",
       "    </tr>\n",
       "    <tr>\n",
       "      <th>2</th>\n",
       "      <td>15668575</td>\n",
       "      <td>Female</td>\n",
       "      <td>26</td>\n",
       "      <td>43000</td>\n",
       "      <td>0</td>\n",
       "    </tr>\n",
       "    <tr>\n",
       "      <th>3</th>\n",
       "      <td>15603246</td>\n",
       "      <td>Female</td>\n",
       "      <td>27</td>\n",
       "      <td>57000</td>\n",
       "      <td>0</td>\n",
       "    </tr>\n",
       "    <tr>\n",
       "      <th>4</th>\n",
       "      <td>15804002</td>\n",
       "      <td>Male</td>\n",
       "      <td>19</td>\n",
       "      <td>76000</td>\n",
       "      <td>0</td>\n",
       "    </tr>\n",
       "  </tbody>\n",
       "</table>\n",
       "</div>"
      ],
      "text/plain": [
       "    User ID  Gender  Age  EstimatedSalary  Purchased\n",
       "0  15624510    Male   19            19000          0\n",
       "1  15810944    Male   35            20000          0\n",
       "2  15668575  Female   26            43000          0\n",
       "3  15603246  Female   27            57000          0\n",
       "4  15804002    Male   19            76000          0"
      ]
     },
     "execution_count": 9,
     "metadata": {},
     "output_type": "execute_result"
    }
   ],
   "source": [
    "import numpy as np\n",
    "import pandas as pd\n",
    "import matplotlib.pyplot as plt\n",
    "from sklearn.model_selection import train_test_split\n",
    "from math import exp\n",
    "plt.rcParams[\"figure.figsize\"] = (10, 6)\n",
    "\n",
    "\n",
    "# Load the data\n",
    "data = pd.read_csv(r'Social_Network_Ads.csv')\n",
    "data.head()"
   ]
  },
  {
   "cell_type": "code",
   "execution_count": 10,
   "id": "82fd8c5f",
   "metadata": {},
   "outputs": [
    {
     "data": {
      "image/png": "[encoded data removed]",
      "text/plain": [
       "<Figure size 720x432 with 1 Axes>"
      ]
     },
     "metadata": {
      "needs_background": "light"
     },
     "output_type": "display_data"
    }
   ],
   "source": [
    "# Visualizing the dataset\n",
    "plt.scatter(data['Age'], data['Purchased'])\n",
    "plt.show()\n",
    "\n",
    "# Divide the data to training set and test set\n",
    "X_train, X_test, y_train, y_test = train_test_split(data['Age'], data['Purchased'], test_size=0.20)"
   ]
  },
  {
   "cell_type": "code",
   "execution_count": 11,
   "id": "1b0642a3",
   "metadata": {},
   "outputs": [],
   "source": [
    "# Creating the logistic regression model\n",
    "\n",
    "# Helper function to normalize data\n",
    "def normalize(X):\n",
    "    return X - X.mean()\n",
    "\n",
    "# Method to make predictions\n",
    "def predict(X, b0, b1):\n",
    "    return np.array([1 / (1 + exp(-1*b0 + -1*b1*x)) for x in X])\n",
    "\n",
    "# Method to train the model\n",
    "def logistic_regression(X, Y):\n",
    "\n",
    "    X = normalize(X)\n",
    "\n",
    "    # Initializing variables\n",
    "    b0 = 0\n",
    "    b1 = 0\n",
    "    L = 0.001\n",
    "    epochs = 300\n",
    "\n",
    "    for epoch in range(epochs):\n",
    "        y_pred = predict(X, b0, b1)\n",
    "        D_b0 = -2 * sum((Y - y_pred) * y_pred * (1 - y_pred))  # Derivative of loss wrt b0\n",
    "        D_b1 = -2 * sum(X * (Y - y_pred) * y_pred * (1 - y_pred))  # Derivative of loss wrt b1\n",
    "        b0 = b0 - L * D_b0\n",
    "        b1 = b1 - L * D_b1\n",
    "    \n",
    "    return b0, b1"
   ]
  },
  {
   "cell_type": "code",
   "execution_count": 12,
   "id": "54ab6f55",
   "metadata": {},
   "outputs": [
    {
     "data": {
      "image/png": "[encoded data removed]",
      "text/plain": [
       "<Figure size 720x432 with 1 Axes>"
      ]
     },
     "metadata": {
      "needs_background": "light"
     },
     "output_type": "display_data"
    },
    {
     "name": "stdout",
     "output_type": "stream",
     "text": [
      "Accuracy = 0.8375\n"
     ]
    }
   ],
   "source": [
    "# Training the model\n",
    "b0, b1 = logistic_regression(X_train, y_train)\n",
    "\n",
    "# Making predictions\n",
    "#X_test = X_test.sort_values()  # Sorting values is optional only to see the line graph\n",
    "X_test_norm = normalize(X_test)\n",
    "y_pred = predict(X_test_norm, b0, b1)\n",
    "y_pred = [1 if p >= 0.5 else 0 for p in y_pred]\n",
    "\n",
    "plt.clf()\n",
    "plt.scatter(X_test, y_test)\n",
    "plt.scatter(X_test, y_pred, c=\"red\")\n",
    "# plt.plot(X_test, y_pred, c=\"red\", linestyle='-', marker='o') # Only if values are sorted\n",
    "plt.show()\n",
    "\n",
    "# The accuracy\n",
    "accuracy = 0\n",
    "for i in range(len(y_pred)):\n",
    "    if y_pred[i] == y_test.iloc[i]:\n",
    "        accuracy += 1\n",
    "print(f\"Accuracy = {accuracy / len(y_pred)}\")"
   ]
  },
  {
   "cell_type": "code",
   "execution_count": 13,
   "id": "79331be9",
   "metadata": {},
   "outputs": [
    {
     "name": "stderr",
     "output_type": "stream",
     "text": [
      "C:\\Users\\Devansh Gupta\\anaconda3\\lib\\site-packages\\sklearn\\utils\\validation.py:993: DataConversionWarning: A column-vector y was passed when a 1d array was expected. Please change the shape of y to (n_samples, ), for example using ravel().\n",
      "  y = column_or_1d(y, warn=True)\n"
     ]
    },
    {
     "data": {
      "image/png": "[encoded data removed]",
      "text/plain": [
       "<Figure size 720x432 with 1 Axes>"
      ]
     },
     "metadata": {
      "needs_background": "light"
     },
     "output_type": "display_data"
    },
    {
     "name": "stdout",
     "output_type": "stream",
     "text": [
      "Accuracy = 0.8375\n"
     ]
    }
   ],
   "source": [
    "# Making predictions using scikit learn\n",
    "from sklearn.linear_model import LogisticRegression\n",
    "\n",
    "# Create an instance and fit the model \n",
    "lr_model = LogisticRegression()\n",
    "lr_model.fit(X_train.values.reshape(-1, 1), y_train.values.reshape(-1, 1))\n",
    "\n",
    "# Making predictions\n",
    "y_pred_sk = lr_model.predict(X_test.values.reshape(-1, 1))\n",
    "plt.clf()\n",
    "plt.scatter(X_test, y_test)\n",
    "plt.scatter(X_test, y_pred_sk, c=\"red\")\n",
    "plt.show()\n",
    "\n",
    "# Accuracy\n",
    "print(f\"Accuracy = {lr_model.score(X_test.values.reshape(-1, 1), y_test.values.reshape(-1, 1))}\")"
   ]
  },
  {
   "cell_type": "code",
   "execution_count": 14,
   "id": "1d5c4e79",
   "metadata": {},
   "outputs": [
    {
     "data": {
      "text/plain": [
       "array([[47,  2],\n",
       "       [11, 20]], dtype=int64)"
      ]
     },
     "execution_count": 14,
     "metadata": {},
     "output_type": "execute_result"
    }
   ],
   "source": [
    "from sklearn import metrics\n",
    "cnf_matrix=metrics.confusion_matrix(y_test,y_pred)\n",
    "cnf_matrix"
   ]
  },
  {
   "cell_type": "code",
   "execution_count": 15,
   "id": "52eae1ad",
   "metadata": {},
   "outputs": [
    {
     "name": "stdout",
     "output_type": "stream",
     "text": [
      "Accuracy 0.8375\n"
     ]
    }
   ],
   "source": [
    "print('Accuracy',metrics.accuracy_score(y_pred,y_test))"
   ]
  },
  {
   "cell_type": "code",
   "execution_count": 16,
   "id": "50797faf",
   "metadata": {},
   "outputs": [
    {
     "data": {
      "image/png": "[encoded data removed]",
      "text/plain": [
       "<Figure size 432x288 with 2 Axes>"
      ]
     },
     "metadata": {
      "needs_background": "light"
     },
     "output_type": "display_data"
    }
   ],
   "source": [
    "# annot= An array of same shape as data which is used to annotate the heatmap.\n",
    "# Visualization\n",
    "import seaborn as sb\n",
    "%matplotlib inline\n",
    "sb.heatmap(cnf_matrix,annot=True)\n",
    "plt.title(\"Confusion Matrix\")\n",
    "plt.xlabel('Predicted matrix')\n",
    "plt.ylabel('Actual matrix')\n",
    "plt.show()"
   ]
  },
  {
   "cell_type": "code",
   "execution_count": 17,
   "id": "57c41039",
   "metadata": {},
   "outputs": [
    {
     "data": {
      "text/plain": [
       "<AxesSubplot:>"
      ]
     },
     "execution_count": 17,
     "metadata": {},
     "output_type": "execute_result"
    },
    {
     "data": {
      "image/png": "[encoded data removed]",
      "text/plain": [
       "<Figure size 432x288 with 2 Axes>"
      ]
     },
     "metadata": {
      "needs_background": "light"
     },
     "output_type": "display_data"
    }
   ],
   "source": [
    "# fmt= string formating code to use when adding annotations.\n",
    "sb.heatmap(cnf_matrix/np.sum(cnf_matrix),annot=True,fmt='.2%')\n"
   ]
  },
  {
   "cell_type": "code",
   "execution_count": 18,
   "id": "f4064975",
   "metadata": {
    "scrolled": false
   },
   "outputs": [
    {
     "name": "stdout",
     "output_type": "stream",
     "text": [
      "              precision    recall  f1-score   support\n",
      "\n",
      "           0       0.81      0.96      0.88        49\n",
      "           1       0.91      0.65      0.75        31\n",
      "\n",
      "    accuracy                           0.84        80\n",
      "   macro avg       0.86      0.80      0.82        80\n",
      "weighted avg       0.85      0.84      0.83        80\n",
      "\n"
     ]
    }
   ],
   "source": [
    "from sklearn.metrics import classification_report\n",
    "print(classification_report(y_test, y_pred))"
   ]
  },
  {
   "cell_type": "code",
   "execution_count": 19,
   "id": "e16fa800",
   "metadata": {},
   "outputs": [],
   "source": [
    "TP = 44\n",
    "TN = 21\n",
    "FP = 4\n",
    "FN = 11 "
   ]
  },
  {
   "cell_type": "code",
   "execution_count": 20,
   "id": "d9e0be39",
   "metadata": {},
   "outputs": [
    {
     "name": "stdout",
     "output_type": "stream",
     "text": [
      "0.84\n"
     ]
    }
   ],
   "source": [
    "TNR = TN/(TN+FP)\n",
    "print(TNR)"
   ]
  },
  {
   "cell_type": "code",
   "execution_count": 21,
   "id": "9410bf44",
   "metadata": {},
   "outputs": [
    {
     "name": "stdout",
     "output_type": "stream",
     "text": [
      "0.2\n"
     ]
    }
   ],
   "source": [
    "FNR = FN/(FN+TP)\n",
    "print(FNR)"
   ]
  },
  {
   "cell_type": "code",
   "execution_count": 22,
   "id": "40620199",
   "metadata": {},
   "outputs": [
    {
     "name": "stdout",
     "output_type": "stream",
     "text": [
      "0.16\n"
     ]
    }
   ],
   "source": [
    "FPR = FP/(FP+TN)\n",
    "print(FPR)"
   ]
  },
  {
   "cell_type": "code",
   "execution_count": 23,
   "id": "c4336866",
   "metadata": {},
   "outputs": [
    {
     "data": {
      "image/png": "[encoded data removed]",
      "text/plain": [
       "<Figure size 432x288 with 1 Axes>"
      ]
     },
     "metadata": {
      "needs_background": "light"
     },
     "output_type": "display_data"
    }
   ],
   "source": [
    "from sklearn.metrics import roc_curve , auc\n",
    "\n",
    "logistic_tpr , logistic_fpr , threshold =roc_curve(y_test,y_pred_sk)\n",
    "auc_logistic =auc(logistic_tpr,logistic_fpr)\n",
    "\n",
    "plt.figure()\n",
    "plt.plot(logistic_tpr,logistic_fpr,label='Logistic Regression (auc= %0.2f)' % auc_logistic)\n",
    "plt.plot([0, 1], [0, 1],'r--')\n",
    "plt.xlim([0.0, 1.0])\n",
    "plt.ylim([0.0, 1.0])\n",
    "plt.xlabel('False Positive Rate')\n",
    "plt.ylabel('True Positive Rate')\n",
    "plt.title('Social Network Ads')\n",
    "plt.legend()\n",
    "plt.show()\n"
   ]
  },
  {
   "cell_type": "code",
   "execution_count": 27,
   "id": "fe3e704d",
   "metadata": {},
   "outputs": [
    {
     "data": {
      "image/png": "[encoded data removed]",
      "text/plain": [
       "<Figure size 432x288 with 1 Axes>"
      ]
     },
     "metadata": {
      "needs_background": "light"
     },
     "output_type": "display_data"
    }
   ],
   "source": [
    "precision, recall, thresholds = metrics.precision_recall_curve(y_test, y_pred_sk)\n",
    "\n",
    "plt.plot(recall, precision, color='purple')\n",
    "\n",
    "#add axis labels to plot\n",
    "plt.title('Precision-Recall Curve')\n",
    "plt.xlabel('Recall')\n",
    "plt.ylabel('Precision')\n",
    "\n",
    "#display plot\n",
    "plt.show()"
   ]
  }
 ],
 "metadata": {
  "kernelspec": {
   "display_name": "Python 3 (ipykernel)",
   "language": "python",
   "name": "python3"
  },
  "language_info": {
   "codemirror_mode": {
    "name": "ipython",
    "version": 3
   },
   "file_extension": ".py",
   "mimetype": "text/x-python",
   "name": "python",
   "nbconvert_exporter": "python",
   "pygments_lexer": "ipython3",
   "version": "3.9.12"
  }
 },
 "nbformat": 4,
 "nbformat_minor": 5
}
