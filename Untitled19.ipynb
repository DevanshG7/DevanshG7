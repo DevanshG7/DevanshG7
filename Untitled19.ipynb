{
 "cells": [
  {
   "cell_type": "code",
   "execution_count": 3,
   "id": "e518546f",
   "metadata": {},
   "outputs": [
    {
     "name": "stdout",
     "output_type": "stream",
     "text": [
      "Collecting tk\n",
      "  Using cached tk-0.1.0-py3-none-any.whl (3.9 kB)\n",
      "Installing collected packages: tk\n",
      "Successfully installed tk-0.1.0\n"
     ]
    }
   ],
   "source": [
    "! pip install tk"
   ]
  },
  {
   "cell_type": "code",
   "execution_count": 4,
   "id": "a15d3e2a",
   "metadata": {},
   "outputs": [],
   "source": [
    "from tkinter import *"
   ]
  },
  {
   "cell_type": "code",
   "execution_count": 12,
   "id": "fd2d00ef",
   "metadata": {},
   "outputs": [],
   "source": [
    "windows = Tk()\n",
    "w=Label(windows,text=\"Hello World\")\n",
    "w.pack()\n",
    "windows.mainloop()"
   ]
  },
  {
   "cell_type": "code",
   "execution_count": 13,
   "id": "2d0d1ede",
   "metadata": {},
   "outputs": [],
   "source": [
    "w=Label(None,text=\"Hello World\")\n",
    "w.pack()\n",
    "windows.mainloop()"
   ]
  },
  {
   "cell_type": "code",
   "execution_count": 18,
   "id": "630dfc22",
   "metadata": {},
   "outputs": [],
   "source": [
    "windows =Tk()\n",
    "windows.title(\"Counting Seconds\")\n",
    "button=Button(windows, text=\"Stop\",width=40,command=windows.destroy)\n",
    "button.pack(side=BOTTOM)\n",
    "windows.mainloop()"
   ]
  },
  {
   "cell_type": "code",
   "execution_count": 20,
   "id": "b0a45b07",
   "metadata": {},
   "outputs": [
    {
     "name": "stdout",
     "output_type": "stream",
     "text": [
      "Requirement already satisfied: pillow in c:\\users\\devansh gupta\\anaconda3\\lib\\site-packages (8.2.0)\n"
     ]
    }
   ],
   "source": [
    "!pip install pillow"
   ]
  },
  {
   "cell_type": "code",
   "execution_count": 1,
   "id": "63106f45",
   "metadata": {},
   "outputs": [],
   "source": [
    "from tkinter import *\n",
    "from PIL import ImageTk,Image"
   ]
  },
  {
   "cell_type": "code",
   "execution_count": 2,
   "id": "ba0b324b",
   "metadata": {},
   "outputs": [],
   "source": [
    "windows =Tk()\n",
    "path=r\"image1.png\"\n",
    "z=ImageTk.PhotoImage(Image.open(path))\n",
    "w=Label(windows,image=z)\n",
    "w.pack()\n",
    "windows.mainloop()"
   ]
  },
  {
   "cell_type": "code",
   "execution_count": 2,
   "id": "3b14bc50",
   "metadata": {},
   "outputs": [],
   "source": [
    "windows=Tk()\n",
    "z=Image.open(\"th.jfif\")\n",
    "photo =ImageTk.PhotoImage(file=\"th.jfif\")\n",
    "w=Label(windows,image=photo)\n",
    "w.pack()\n",
    "windows.mainloop()"
   ]
  },
  {
   "cell_type": "code",
   "execution_count": 9,
   "id": "b2f8697e",
   "metadata": {},
   "outputs": [
    {
     "data": {
      "text/plain": [
       "'C:\\\\Users\\\\Devansh Gupta\\\\Downloads'"
      ]
     },
     "execution_count": 9,
     "metadata": {},
     "output_type": "execute_result"
    }
   ],
   "source": [
    "pwd"
   ]
  },
  {
   "cell_type": "code",
   "execution_count": 3,
   "id": "dadcfc0c",
   "metadata": {},
   "outputs": [],
   "source": [
    "windows = Tk()\n",
    "z=PhotoImage(file=\"image1.png\")\n",
    "w=Label(windows,image=z)\n",
    "w.pack()\n",
    "windows.mainloop()"
   ]
  },
  {
   "cell_type": "code",
   "execution_count": 2,
   "id": "d9a786e6",
   "metadata": {},
   "outputs": [],
   "source": [
    "windows = Tk()\n",
    "image=Image.open(\"th.jfif\")\n",
    "z=ImageTk.PhotoImage(file=\"th.jfif\")\n",
    "w=Label(windows,image=z)\n",
    "w.pack()\n",
    "windows.mainloop()"
   ]
  },
  {
   "cell_type": "code",
   "execution_count": 2,
   "id": "209026b3",
   "metadata": {},
   "outputs": [],
   "source": [
    "windows = Tk()\n",
    "z=PhotoImage(file=\"image1.png\")\n",
    "w1=Label(windows,image=z)\n",
    "w1.pack(side=\"right\")\n",
    "w2=Label(windows,justify=LEFT,padx=10)\n",
    "w2.pack(side=\"left\")\n",
    "windows.mainloop()"
   ]
  },
  {
   "cell_type": "code",
   "execution_count": 9,
   "id": "0b34475c",
   "metadata": {},
   "outputs": [],
   "source": [
    "windows = Tk()\n",
    "w=Label(windows,\n",
    "       text =\"Red Text in Times Font\",\n",
    "       fg = \"red\",\n",
    "       font =\"Times\").pack()\n",
    "w=Label(windows,\n",
    "       text=\"Green Text in Helvetica Font\",\n",
    "       fg =\"light green\",\n",
    "       bg = \"dark green\",\n",
    "       font=\"Helvetica 16 bold italic\")\n",
    "w.pack()\n",
    "windows.mainloop()"
   ]
  },
  {
   "cell_type": "code",
   "execution_count": 11,
   "id": "1466a642",
   "metadata": {},
   "outputs": [],
   "source": [
    "windows = Tk()\n",
    "whatever_to_do = \"what do you want\"\n",
    "msg=Message(windows,text = whatever_to_do)\n",
    "msg.config(bg=\"red\",fg=\"light green\",font=('times',24,'italic'))\n",
    "msg.pack()\n",
    "windows.mainloop()"
   ]
  },
  {
   "cell_type": "code",
   "execution_count": 18,
   "id": "5380da07",
   "metadata": {},
   "outputs": [
    {
     "name": "stdout",
     "output_type": "stream",
     "text": [
      "Life is too short drink beer save water\n",
      "Life is too short drink beer save water\n"
     ]
    }
   ],
   "source": [
    "def slogan():\n",
    "    print(\"Life is too short drink beer save water\")\n",
    "    \n",
    "windows=Tk()\n",
    "frame=Frame(windows)\n",
    "frame.pack()\n",
    "\n",
    "button1=Button(frame,text=\"QUIT\",fg='green',\n",
    "              command=windows.destroy)\n",
    "button1.pack(side=BOTTOM)\n",
    "button2=Button(frame,text='Hello',fg='orange',\n",
    "              command=slogan)\n",
    "button2.pack(side=TOP)\n",
    "\n",
    "windows.mainloop()"
   ]
  },
  {
   "cell_type": "code",
   "execution_count": 22,
   "id": "c6bc1c94",
   "metadata": {},
   "outputs": [],
   "source": [
    "counter= 0\n",
    "def counter_label(label):\n",
    "    counter=0\n",
    "    def count():\n",
    "        global counter\n",
    "        counter +=1\n",
    "        label.config(text=str(counter))\n",
    "        label.after(100,count)\n",
    "    count()\n",
    "    \n",
    "windows=Tk()\n",
    "windows.title(\"Counting Seconds\")\n",
    "label=Label(windows,fg='red')\n",
    "label.pack()\n",
    "counter_label(label)\n",
    "button =Button(windows,text='Stop',width=25,\n",
    "               command=windows.destroy)\n",
    "windows.mainloop()"
   ]
  },
  {
   "cell_type": "code",
   "execution_count": 28,
   "id": "a78bba7b",
   "metadata": {},
   "outputs": [],
   "source": [
    "from tkinter import ttk\n",
    "windows=Tk()\n",
    "def button_clicked():\n",
    "    print('Button clicked')\n",
    "    \n",
    "button = ttk.Button(windows,text='click me',\n",
    "                    command=button_clicked)\n",
    "button1 =ttk.Button(windows,text='exit',\n",
    "                   command=windows.destroy)\n",
    "button.pack()\n",
    "button1.pack()\n",
    "windows.mainloop()"
   ]
  },
  {
   "cell_type": "code",
   "execution_count": 33,
   "id": "0b3acc39",
   "metadata": {},
   "outputs": [
    {
     "name": "stdout",
     "output_type": "stream",
     "text": [
      "Rock\n"
     ]
    }
   ],
   "source": [
    "windows=Tk()\n",
    "def select(option):\n",
    "    print(option)\n",
    "    \n",
    "ttk.Button(windows,text='Rock',\n",
    "           command=lambda: select(\"Rock\")).pack()\n",
    "ttk.Button(windows,text=\"Paper\",\n",
    "           command=lambda: select(\"Paper\")).pack()\n",
    "ttk.Button(windows,text='Scissor',\n",
    "           command=lambda: select('Scissor')).pack()\n",
    "ttk.Button(windows,text='stop',\n",
    "           command=windows.destroy).pack()\n",
    "windows.mainloop()"
   ]
  },
  {
   "cell_type": "code",
   "execution_count": null,
   "id": "8b08883d",
   "metadata": {},
   "outputs": [],
   "source": [
    "windows=Tk()\n",
    "v= IntVar()\n",
    "Label(windows,text=\"\"\"Choose a Programming language\"\"\",\n",
    "      justify=LEFT,padx=20).pack()\n",
    "Radiobutton(windows,text='Python',variable=v,value=1).pack(anchor=W)\n",
    "\n"
   ]
  }
 ],
 "metadata": {
  "kernelspec": {
   "display_name": "Python 3",
   "language": "python",
   "name": "python3"
  },
  "language_info": {
   "codemirror_mode": {
    "name": "ipython",
    "version": 3
   },
   "file_extension": ".py",
   "mimetype": "text/x-python",
   "name": "python",
   "nbconvert_exporter": "python",
   "pygments_lexer": "ipython3",
   "version": "3.8.8"
  }
 },
 "nbformat": 4,
 "nbformat_minor": 5
}
